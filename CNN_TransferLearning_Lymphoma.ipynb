{
  "cells": [
    {
      "cell_type": "markdown",
      "metadata": {
        "id": "view-in-github",
        "colab_type": "text"
      },
      "source": [
        "<a href=\"https://colab.research.google.com/github/travislatchman/Malignant-Lymphoma-Classification/blob/main/CNN_TransferLearning_Lymphoma.ipynb\" target=\"_parent\"><img src=\"https://colab.research.google.com/assets/colab-badge.svg\" alt=\"Open In Colab\"/></a>"
      ]
    },
    {
      "cell_type": "markdown",
      "metadata": {
        "id": "1bu8RXv7B0A3"
      },
      "source": [
        "we will learn to classify three types of malignant lymphoma by:\n",
        "\n",
        "- training Convolutional Neural Network (CNN)\n",
        "- doing transfer learning using pre-trained models, fine-tuning, and re-training the last layers.\n",
        "\n"
      ]
    },
    {
      "cell_type": "markdown",
      "metadata": {
        "id": "IKerSQBq7DgW"
      },
      "source": [
        "We will be using the [Malignant Lymphoma Classification](https://www.kaggle.com/datasets/andrewmvd/malignant-lymphoma-classification?resource=download) provided in kaggle. For details about the dataset, please read the [documentation](https://www.kaggle.com/datasets/andrewmvd/malignant-lymphoma-classification?resource=download) or the [paper](https://ieeexplore.ieee.org/abstract/document/5505922): *Orlov, Nikita V., et al. \"Automatic classification of lymphoma images with transform-based global features.\" IEEE Transactions on Information Technology in Biomedicine 14.4 (2010): 1003-1013.*\n",
        "\n",
        "\n",
        "<br> For a short summary:\n",
        "Malignant lymphoma is a cancer affecting lymph nodes.\n",
        "Three types of malignant lymphoma are represented in the dataset:\n",
        "\n",
        "CLL (chronic lymphocytic leukemia);\n",
        "\n",
        "FL (follicular lymphoma);\n",
        "\n",
        "MCL (mantle cell lymphoma)."
      ]
    },
    {
      "cell_type": "markdown",
      "metadata": {
        "id": "-ZfQI_Ry2S8M"
      },
      "source": [
        "Download all the files and upload all the three folders CLL, FL, MCL to somewhere in your Google Drive. For example, \\content\\drive\\Lymphoma\\\\\n",
        "\n",
        "Please always emember to use the MLMA coding rubric.\n"
      ]
    },
    {
      "cell_type": "markdown",
      "metadata": {
        "id": "zF5DPSRw56dv"
      },
      "source": [
        "## Library imports\n"
      ]
    },
    {
      "cell_type": "code",
      "execution_count": null,
      "metadata": {
        "id": "csrJBGOf54-k"
      },
      "outputs": [],
      "source": [
        "# Please be free to add more libraries if needed\n",
        "import pandas as pd\n",
        "import numpy as np\n",
        "from glob import glob\n",
        "import matplotlib.pyplot as plt # basic plotting\n",
        "import seaborn as sns # additional plotting functionality\n",
        "from sklearn.model_selection import train_test_split # Train test split\n",
        "import torch # torch\n",
        "from torchvision import transforms # transform is used for data pre-processing\n",
        "from torch.utils import data as Data\n",
        "from torch.utils.data import Dataset # for dataset construction\n",
        "import torch.optim as optim\n",
        "from PIL import Image\n",
        "import numpy as np\n",
        "import imageio\n",
        "import cv2 as cv # cv2\n",
        "import matplotlib.image as mpimg\n",
        "import matplotlib.pyplot as plt\n",
        "%matplotlib inline\n",
        "import random # For randomizing\n",
        "from collections import Counter\n",
        "import re\n",
        "import os\n",
        "import cv2"
      ]
    },
    {
      "cell_type": "markdown",
      "metadata": {
        "id": "yTkCYIEg5ofl"
      },
      "source": [
        "# Part I\n",
        "Read the dataset and apply essential pre-processing steps."
      ]
    },
    {
      "cell_type": "markdown",
      "metadata": {
        "id": "JAMwWSRl5x4w"
      },
      "source": [
        "### Task 1:\n",
        "Read the data and construct the labels"
      ]
    },
    {
      "cell_type": "code",
      "execution_count": null,
      "metadata": {
        "colab": {
          "base_uri": "https://localhost:8080/"
        },
        "id": "gAMGwbHpEsqt",
        "outputId": "96323d2b-51dc-4dc4-dcc2-182f1db15e86"
      },
      "outputs": [
        {
          "output_type": "stream",
          "name": "stdout",
          "text": [
            "Mounted at /content/drive\n"
          ]
        }
      ],
      "source": [
        "# load your drive.\n",
        "from google.colab import drive\n",
        "drive.mount('/content/drive', force_remount=True)"
      ]
    },
    {
      "cell_type": "code",
      "execution_count": null,
      "metadata": {
        "id": "RvuEhWaNTPxY"
      },
      "outputs": [],
      "source": [
        "lymphoma_path = '/content/drive/MyDrive/Colab Notebooks/Lymphoma'\n"
      ]
    },
    {
      "cell_type": "code",
      "execution_count": null,
      "metadata": {
        "id": "VTzpn8wvTTDy"
      },
      "outputs": [],
      "source": [
        "CLL_path = '/content/drive/Lymphoma/CLL'\n",
        "FL_path = '/content/drive/MyDrive/Colab Notebooks/Lymphoma/FL'\n",
        "MCL_path = '/content/drive/MyDrive/Colab Notebooks/Lymphoma/MCL'\n"
      ]
    },
    {
      "cell_type": "code",
      "execution_count": null,
      "metadata": {
        "id": "g_Paf2pKU8Tf"
      },
      "outputs": [],
      "source": [
        "# Read the images from the data path, construct numpy arrays for data and label\n",
        "def Read_Image_And_Label(Data_Path, Label_Names):\n",
        "  \"\"\"\n",
        "Read the images from the data path, when images of different classes are seperatedly stored in different folders named with their label names;\n",
        "construct numpy arrays for both the image data and the image labels.\n",
        "\n",
        "You could resize the images if you think they are too large.\n",
        "Inputs:\n",
        "      Data_Path: the path of the data, in our case is the parent derectory of the three folders CLL, FL, and MCL.\n",
        "      Label_Names: the class names, in our case are the names of three subfolders.\n",
        "Outputs:\n",
        "      Image_Array: numpy array storing the images, please read the images in grayscale rather than RGB. C*M*N, C images and each image is\n",
        "        of the size M*N\n",
        "      Label_Array: numpy array storing the labels. C*1, C images and each with one label\n",
        "        And lets redefine the labels as index:\n",
        "              Label CLL: 1\n",
        "              Label FL: 2\n",
        "              Label MCL: 3\n",
        "      Patient_Index: numpy array storing patients's indexs. You could tell it from the file naming, like sj-05-6124-R4_016 is for patient 6124.\n",
        "  \"\"\"\n",
        "\n",
        "\n"
      ]
    },
    {
      "cell_type": "code",
      "execution_count": null,
      "metadata": {
        "id": "0dQwEhs1ffkV"
      },
      "outputs": [],
      "source": [
        "def Read_Image_And_Label(Data_Path, Label_Names):\n",
        "    Image_Array = []\n",
        "    Label_Array = []\n",
        "    Patient_Index = []\n",
        "    label_mapping = {\"CLL\": 1, \"FL\": 2, \"MCL\": 3}\n",
        "\n",
        "    for label in Label_Names:\n",
        "        class_path = os.path.join(Data_Path, label)\n",
        "        for img_name in os.listdir(class_path):\n",
        "            img_path = os.path.join(class_path, img_name)\n",
        "            img = cv2.imread(img_path, cv2.IMREAD_GRAYSCALE) # Read image in grayscale\n",
        "            resized_img = cv2.resize(img, (128, 128)) # Resize image if necessary\n",
        "            Image_Array.append(resized_img)\n",
        "            Label_Array.append(label_mapping[label])\n",
        "            patient_id = img_name.split(\"-\")[2].split('_')[0]\n",
        "            Patient_Index.append(int(patient_id))\n",
        "\n",
        "    # Convert lists to numpy arrays\n",
        "    Image_Array = np.array(Image_Array)\n",
        "    Label_Array = np.array(Label_Array).reshape(-1, 1)\n",
        "    Patient_Index = np.array(Patient_Index).reshape(-1, 1)\n",
        "\n",
        "    return Image_Array, Label_Array, Patient_Index"
      ]
    },
    {
      "cell_type": "code",
      "execution_count": null,
      "metadata": {
        "id": "9tGWVHs4MZFq"
      },
      "outputs": [],
      "source": [
        "Data_Path  = '/content/drive/MyDrive/Colab Notebooks/Lymphoma'; #replace with your path\n",
        "Label_Names = ['CLL', 'FL', 'MCL']\n",
        "Image_Array, Label_Array,Patient_Index   = Read_Image_And_Label(Data_Path, Label_Names)\n"
      ]
    },
    {
      "cell_type": "code",
      "execution_count": null,
      "metadata": {
        "id": "gJKmdTs1kyoq"
      },
      "outputs": [],
      "source": [
        "Patient_Index_Count = dict(Counter(Patient_Index.flatten()))\n",
        "Label_Array_Count  = dict(Counter(Label_Array.flatten()))"
      ]
    },
    {
      "cell_type": "code",
      "execution_count": null,
      "metadata": {
        "colab": {
          "base_uri": "https://localhost:8080/"
        },
        "id": "-aywLXD0k5w_",
        "outputId": "e0a02ad4-072e-4229-e9e0-041fce7beed4"
      },
      "outputs": [
        {
          "output_type": "execute_result",
          "data": {
            "text/plain": [
              "{2810: 11,\n",
              " 476: 10,\n",
              " 4957: 10,\n",
              " 5521: 10,\n",
              " 852: 14,\n",
              " 1396: 11,\n",
              " 3165: 12,\n",
              " 3344: 11,\n",
              " 3874: 10,\n",
              " 5269: 14,\n",
              " 1467: 11,\n",
              " 1881: 19,\n",
              " 4881: 10,\n",
              " 5311: 13,\n",
              " 5389: 19,\n",
              " 5829: 12,\n",
              " 588: 10,\n",
              " 6124: 31,\n",
              " 894: 14,\n",
              " 3077: 11,\n",
              " 4525: 12,\n",
              " 4967: 11,\n",
              " 6010: 11,\n",
              " 1374: 14,\n",
              " 3362: 15,\n",
              " 4179: 11,\n",
              " 5326: 12,\n",
              " 768: 15,\n",
              " 901: 10}"
            ]
          },
          "metadata": {},
          "execution_count": 518
        }
      ],
      "source": [
        "Patient_Index_Count"
      ]
    },
    {
      "cell_type": "code",
      "execution_count": null,
      "metadata": {
        "colab": {
          "base_uri": "https://localhost:8080/"
        },
        "id": "KTzwrS9htuPo",
        "outputId": "cf291514-8eb4-4c78-8f79-17b6d24790d8"
      },
      "outputs": [
        {
          "output_type": "execute_result",
          "data": {
            "text/plain": [
              "29"
            ]
          },
          "metadata": {},
          "execution_count": 519
        }
      ],
      "source": [
        "len(Patient_Index_Count)"
      ]
    },
    {
      "cell_type": "code",
      "execution_count": null,
      "metadata": {
        "colab": {
          "base_uri": "https://localhost:8080/"
        },
        "id": "8ezrnmgalrbG",
        "outputId": "d93b4238-4969-4ec3-c822-6a6595ac2590"
      },
      "outputs": [
        {
          "output_type": "execute_result",
          "data": {
            "text/plain": [
              "{1: 113, 2: 139, 3: 122}"
            ]
          },
          "metadata": {},
          "execution_count": 520
        }
      ],
      "source": [
        "Label_Array_Count"
      ]
    },
    {
      "cell_type": "code",
      "execution_count": null,
      "metadata": {
        "colab": {
          "base_uri": "https://localhost:8080/"
        },
        "id": "bgUytRZttmft",
        "outputId": "4f5caf92-84cc-4388-ab07-047f956574c2"
      },
      "outputs": [
        {
          "output_type": "execute_result",
          "data": {
            "text/plain": [
              "3"
            ]
          },
          "metadata": {},
          "execution_count": 521
        }
      ],
      "source": [
        "len(Label_Array_Count)"
      ]
    },
    {
      "cell_type": "code",
      "execution_count": null,
      "metadata": {
        "colab": {
          "base_uri": "https://localhost:8080/"
        },
        "id": "e62TcBgEsCTk",
        "outputId": "99f953a0-866a-4ffe-82cd-939e6ef292ed"
      },
      "outputs": [
        {
          "output_type": "execute_result",
          "data": {
            "text/plain": [
              "array([[[125,  74,  71, ..., 123, 114, 140],\n",
              "        [119, 126, 145, ..., 160,  95, 100],\n",
              "        [ 90, 105, 140, ..., 132,  93, 137],\n",
              "        ...,\n",
              "        [ 75, 125, 152, ...,  95, 131,  82],\n",
              "        [140,  89,  82, ..., 149, 156,  90],\n",
              "        [143, 129, 129, ...,  74, 134, 108]],\n",
              "\n",
              "       [[ 66, 105, 138, ...,  57,  71,  93],\n",
              "        [ 58, 139,  97, ..., 108,  75, 137],\n",
              "        [111,  88,  95, ...,  73,  92, 146],\n",
              "        ...,\n",
              "        [ 90,  97, 112, ...,  64, 140,  73],\n",
              "        [136, 132, 187, ..., 110, 105,  76],\n",
              "        [121, 127, 116, ..., 147,  88, 128]],\n",
              "\n",
              "       [[ 98, 132,  66, ...,  79, 176,  76],\n",
              "        [ 84, 132,  89, ...,  56, 115, 152],\n",
              "        [117,  90,  70, ..., 135, 156,  89],\n",
              "        ...,\n",
              "        [131, 123,  91, ..., 109, 144,  88],\n",
              "        [113, 126, 160, ..., 153, 122, 142],\n",
              "        [110, 128, 190, ..., 151,  91, 133]],\n",
              "\n",
              "       ...,\n",
              "\n",
              "       [[108, 100,  98, ...,  97,  61, 113],\n",
              "        [ 83,  99, 126, ...,  66,  83,  85],\n",
              "        [ 74,  95,  98, ..., 108, 136,  67],\n",
              "        ...,\n",
              "        [110, 105,  46, ...,  88, 112,  84],\n",
              "        [ 72, 126,  58, ...,  92, 145, 113],\n",
              "        [125,  94,  97, ..., 116,  38, 133]],\n",
              "\n",
              "       [[102,  90, 110, ...,  80, 116, 139],\n",
              "        [112,  72, 120, ...,  75, 120,  78],\n",
              "        [ 98, 118, 144, ..., 108,  90, 101],\n",
              "        ...,\n",
              "        [126, 169, 133, ...,  79, 148,  93],\n",
              "        [ 85, 125, 101, ...,  62,  86,  47],\n",
              "        [ 73, 110,  84, ...,  86,  81,  68]],\n",
              "\n",
              "       [[ 78,  76, 106, ...,  75,  74, 130],\n",
              "        [117, 101,  50, ...,  99,  91,  81],\n",
              "        [ 78, 117,  94, ...,  78,  76,  90],\n",
              "        ...,\n",
              "        [ 96, 126, 116, ..., 138,  85, 105],\n",
              "        [ 94, 114,  95, ...,  82, 113, 103],\n",
              "        [ 81, 107, 118, ...,  91, 104, 145]]], dtype=uint8)"
            ]
          },
          "metadata": {},
          "execution_count": 522
        }
      ],
      "source": [
        "Image_Array"
      ]
    },
    {
      "cell_type": "code",
      "execution_count": null,
      "metadata": {
        "colab": {
          "base_uri": "https://localhost:8080/"
        },
        "id": "O2dc3nzrthzE",
        "outputId": "01553073-bba8-4e32-f04e-98da02175fc2"
      },
      "outputs": [
        {
          "output_type": "execute_result",
          "data": {
            "text/plain": [
              "(374, 128, 128)"
            ]
          },
          "metadata": {},
          "execution_count": 523
        }
      ],
      "source": [
        "Image_Array.shape"
      ]
    },
    {
      "cell_type": "code",
      "execution_count": null,
      "metadata": {
        "colab": {
          "base_uri": "https://localhost:8080/"
        },
        "id": "LFdBc-HBuCZ8",
        "outputId": "6ecb1b54-91be-417d-fe83-fb1628d99f7a"
      },
      "outputs": [
        {
          "output_type": "execute_result",
          "data": {
            "text/plain": [
              "(128, 128)"
            ]
          },
          "metadata": {},
          "execution_count": 524
        }
      ],
      "source": [
        "Image_Array[1].shape"
      ]
    },
    {
      "cell_type": "markdown",
      "metadata": {
        "id": "TBm6y0nbJ0Zx"
      },
      "source": [
        "### Task 2 :  \n",
        "Split into train-validation-test set and data visualization, and avoid that imgaes from a same person appear simutaneously in training and testing set."
      ]
    },
    {
      "cell_type": "code",
      "execution_count": null,
      "metadata": {
        "colab": {
          "base_uri": "https://localhost:8080/",
          "height": 264
        },
        "id": "EMOzX8uns6Dp",
        "outputId": "3f46f7b8-da6f-443d-a16d-4d3801cb04ba"
      },
      "outputs": [
        {
          "output_type": "display_data",
          "data": {
            "text/plain": [
              "<Figure size 432x288 with 1 Axes>"
            ],
            "image/png": "[encoded data removed]"
          },
          "metadata": {
            "needs_background": "light"
          }
        }
      ],
      "source": [
        "\n",
        "# Select a random image index\n",
        "image_index = random.randint(0, len(Image_Array) - 1)\n",
        "\n",
        "# Get the image and its corresponding label\n",
        "image = Image_Array[image_index]\n",
        "label = Label_Array[image_index]\n",
        "\n",
        "# Define a mapping from label indices to names\n",
        "label_mapping = {1: \"CLL\", 2: \"FL\", 3: \"MCL\"}\n",
        "\n",
        "# Plot the image with its label\n",
        "plt.imshow(image, cmap='gray')\n",
        "plt.title(f\"Label: {label_mapping[label[0]]}\")\n",
        "plt.axis(\"off\")\n",
        "plt.show()\n"
      ]
    },
    {
      "cell_type": "code",
      "execution_count": null,
      "metadata": {
        "id": "v2rsUVablpwe"
      },
      "outputs": [],
      "source": [
        "def split_data_by_patient(Image_Array, Label_Array, Patient_Index, train_ratio=0.7, val_ratio=0.15, test_ratio=0.15):\n",
        "    unique_patients = np.unique(Patient_Index)\n",
        "    random.shuffle(unique_patients)\n",
        "\n",
        "    train_count = int(len(unique_patients) * train_ratio)\n",
        "    val_count = int(len(unique_patients) * val_ratio)\n",
        "\n",
        "    train_patients = unique_patients[:train_count]\n",
        "    val_patients = unique_patients[train_count:train_count + val_count]\n",
        "    test_patients = unique_patients[train_count + val_count:]\n",
        "\n",
        "    train_indices = np.isin(Patient_Index, train_patients)\n",
        "    val_indices = np.isin(Patient_Index, val_patients)\n",
        "    test_indices = np.isin(Patient_Index, test_patients)\n",
        "\n",
        "    X_train, y_train = Image_Array[train_indices.flatten()], Label_Array[train_indices.flatten()]\n",
        "    X_val, y_val = Image_Array[val_indices.flatten()], Label_Array[val_indices.flatten()]\n",
        "    X_test, y_test = Image_Array[test_indices.flatten()], Label_Array[test_indices.flatten()]\n",
        "\n",
        "    return X_train, y_train, X_val, y_val, X_test, y_test"
      ]
    },
    {
      "cell_type": "code",
      "execution_count": null,
      "metadata": {
        "colab": {
          "base_uri": "https://localhost:8080/"
        },
        "id": "bX0hsLGkhCQs",
        "outputId": "84d21279-f2ae-4174-ce6e-b990b31c519a"
      },
      "outputs": [
        {
          "output_type": "stream",
          "name": "stdout",
          "text": [
            "Train set size: 268\n",
            "Validation set size: 50\n",
            "Test set size: 56\n"
          ]
        }
      ],
      "source": [
        "# Split the data into train-validation\n",
        "X_train, y_train, X_val, y_val, X_test, y_test = split_data_by_patient(Image_Array, Label_Array, Patient_Index)\n",
        "\n",
        "print(\"Train set size:\", len(X_train))\n",
        "print(\"Validation set size:\", len(X_val))\n",
        "print(\"Test set size:\", len(X_test))\n",
        "\n"
      ]
    },
    {
      "cell_type": "code",
      "execution_count": null,
      "metadata": {
        "id": "HSmEoJDQ8KPV"
      },
      "outputs": [],
      "source": [
        "\n",
        "Val_patient = [4957,5311,4967];\n",
        "Test_patient = [2810,476,1467,4881,3077,4525];\n",
        "\n"
      ]
    },
    {
      "cell_type": "code",
      "execution_count": null,
      "metadata": {
        "id": "pNXlAisY46yQ"
      },
      "outputs": [],
      "source": [
        "def split_data_by_patient_predefined(Image_Array, Label_Array, Patient_Index, Val_patient, Test_patient):\n",
        "    unique_patients = np.unique(Patient_Index)\n",
        "\n",
        "    val_patients = np.array(Val_patient)\n",
        "    test_patients = np.array(Test_patient)\n",
        "    train_patients = np.array(list(set(unique_patients) - set(val_patients) - set(test_patients)))\n",
        "\n",
        "    train_indices = np.isin(Patient_Index, train_patients)\n",
        "    val_indices = np.isin(Patient_Index, val_patients)\n",
        "    test_indices = np.isin(Patient_Index, test_patients)\n",
        "\n",
        "    X_train, y_train = Image_Array[train_indices.flatten()], Label_Array[train_indices.flatten()]\n",
        "    X_val, y_val = Image_Array[val_indices.flatten()], Label_Array[val_indices.flatten()]\n",
        "    X_test, y_test = Image_Array[test_indices.flatten()], Label_Array[test_indices.flatten()]\n",
        "\n",
        "    return X_train, y_train, X_val, y_val, X_test, y_test"
      ]
    },
    {
      "cell_type": "code",
      "execution_count": null,
      "metadata": {
        "id": "sQOduQRp4-E3"
      },
      "outputs": [],
      "source": [
        "Image_train, Label_train, Image_val, Label_val, Image_test, Label_test = split_data_by_patient_predefined(Image_Array, Label_Array, Patient_Index, Val_patient, Test_patient)"
      ]
    },
    {
      "cell_type": "code",
      "execution_count": null,
      "metadata": {
        "id": "Ko8VWTX_lQMf"
      },
      "outputs": [],
      "source": [
        "# Plot class distribution (percentage of the total data n = 374) as barplot for each of train, test and validation sets. Check if they have a similar distribution.\n",
        "\n",
        "def plot_class_distribution(y_train, y_val, y_test, label_mapping):\n",
        "    train_counts = dict(Counter(y_train.flatten()))\n",
        "    val_counts = dict(Counter(y_val.flatten()))\n",
        "    test_counts = dict(Counter(y_test.flatten()))\n",
        "\n",
        "    percentages_train = {label_mapping[k]: v / len(y_train) * 100 for k, v in train_counts.items()}\n",
        "    percentages_val = {label_mapping[k]: v / len(y_val) * 100 for k, v in val_counts.items()}\n",
        "    percentages_test = {label_mapping[k]: v / len(y_test) * 100 for k, v in test_counts.items()}\n",
        "\n",
        "    percentages_df = pd.DataFrame([percentages_train, percentages_val, percentages_test],\n",
        "                                  index=['Train', 'Validation', 'Test'])\n",
        "\n",
        "    sns.barplot(data=percentages_df.T)\n",
        "    plt.ylabel('Percentage')\n",
        "    plt.title('Class Distribution in Train, Validation, and Test Sets')\n",
        "    plt.show()\n",
        "\n",
        "\n"
      ]
    },
    {
      "cell_type": "code",
      "execution_count": null,
      "metadata": {
        "colab": {
          "base_uri": "https://localhost:8080/",
          "height": 281
        },
        "id": "XnNuhP1C5bzv",
        "outputId": "fdbc109a-74cf-47f0-eba0-aa3b099524bb"
      },
      "outputs": [
        {
          "output_type": "display_data",
          "data": {
            "text/plain": [
              "<Figure size 432x288 with 1 Axes>"
            ],
            "image/png": "[encoded data removed]"
          },
          "metadata": {
            "needs_background": "light"
          }
        }
      ],
      "source": [
        "label_mapping = {1: \"CLL\", 2: \"FL\", 3: \"MCL\"}\n",
        "plot_class_distribution(Label_train, Label_val, Label_test, label_mapping)"
      ]
    },
    {
      "cell_type": "markdown",
      "metadata": {
        "id": "1XSO-SM18BQA"
      },
      "source": [
        "### Task 3 :  \n",
        "Construct the dataset for Pytorch\n",
        "\n",
        "For how to construct the dataset, please refer [Reference Link](https://pytorch.org/tutorials/beginner/basics/data_tutorial.html). You may have already known that we could construct the RGB dataset directly from the input path within a defined dataset class. But here please construct a grayscale one from our image and label ndarrays as we are already at this stage 🤗\n"
      ]
    },
    {
      "cell_type": "markdown",
      "metadata": {
        "id": "Fm7IlN3Mu5sb"
      },
      "source": [
        "\n",
        "Now lets construct the dataset for Pytorch."
      ]
    },
    {
      "cell_type": "code",
      "execution_count": null,
      "metadata": {
        "id": "2x9AD_ptuub_"
      },
      "outputs": [],
      "source": [
        "# Complete defining this class\n",
        "class LymphomaDataset(Dataset):\n",
        "\n",
        "    \"\"\"\n",
        "When defining the public values: Images, Labels are the input images and labels for the dataset; Transforms contains the transform parameters\n",
        "Inputs:\n",
        "    Images: input images in one set, numpy arrays\n",
        "    Labels: input labels in one set, numpy arrays\n",
        "    Transforms: containing the parameters for data transform\n",
        "\n",
        "\n",
        "    *** Please convert the label from index to one-hot:\n",
        "                    index      one-hot\n",
        "              Label CLL: 1       [1,0,0]\n",
        "              Label FL: 2       [0,1,0]\n",
        "              Label MCL: 3       [0,0,1]\n",
        "\n",
        "  \"\"\"\n",
        "\n",
        "    # YOUR CODES GO HERE\n"
      ]
    },
    {
      "cell_type": "code",
      "execution_count": null,
      "metadata": {
        "id": "YSNWBz8l_uBD"
      },
      "outputs": [],
      "source": [
        "class LymphomaDataset(Dataset):\n",
        "    def __init__(self, Images, Labels, Transforms=None):\n",
        "        self.Images = Images\n",
        "        self.Labels = Labels\n",
        "        self.Transforms = Transforms\n",
        "\n",
        "    def __len__(self):\n",
        "        return len(self.Images)\n",
        "\n",
        "    def __getitem__(self, idx):\n",
        "        image = self.Images[idx]\n",
        "        label = self.Labels[idx]\n",
        "\n",
        "        # Apply transforms if any\n",
        "        if self.Transforms:\n",
        "            image = self.Transforms(image)\n",
        "\n",
        "        # Convert label to one-hot encoding\n",
        "        label_onehot = np.zeros(3)\n",
        "        label_onehot[label - 1] = 1\n",
        "\n",
        "        # Convert label to PyTorch tensor\n",
        "        label_tensor = torch.from_numpy(label_onehot).float()\n",
        "\n",
        "        return image, label_tensor\n"
      ]
    },
    {
      "cell_type": "code",
      "execution_count": null,
      "metadata": {
        "id": "7VOm3n0FvSCf"
      },
      "outputs": [],
      "source": [
        "# Set the transform parameters.\n",
        "Transforms = transforms.Compose( [transforms.ToTensor(),transforms.RandomHorizontalFlip(0.5),transforms.RandomRotation(15)] )\n",
        "# Define the dataset\n",
        "train_dataset     = LymphomaDataset(Image_train, Label_train, Transforms)\n",
        "test_dataset     = LymphomaDataset(Image_test, Label_test, transforms.Compose([transforms.ToTensor()]))\n",
        "validation_dataset  = LymphomaDataset(Image_val, Label_val,  transforms.Compose([transforms.ToTensor()]))"
      ]
    },
    {
      "cell_type": "markdown",
      "metadata": {
        "id": "W-T6_IFo4DV-"
      },
      "source": [
        "Check the dataset you just created: Pick one item from your test_dataset, plot its image and print its label."
      ]
    },
    {
      "cell_type": "code",
      "execution_count": null,
      "metadata": {
        "colab": {
          "base_uri": "https://localhost:8080/",
          "height": 285
        },
        "id": "hXTbnnAd4qY2",
        "outputId": "4b23911c-05c8-43dd-b2bb-bbce95c8a08d"
      },
      "outputs": [
        {
          "output_type": "display_data",
          "data": {
            "text/plain": [
              "<Figure size 432x288 with 1 Axes>"
            ],
            "image/png": "[encoded data removed]"
          },
          "metadata": {
            "needs_background": "light"
          }
        },
        {
          "output_type": "stream",
          "name": "stdout",
          "text": [
            "Label: CLL\n"
          ]
        }
      ],
      "source": [
        "# YOUR CODES GO HERE\n",
        "# Pick one item from the test dataset\n",
        "image_tensor, label_tensor = test_dataset[0]\n",
        "\n",
        "# Convert the image tensor back to a numpy array and plot it\n",
        "image_np = image_tensor.numpy()\n",
        "image_np = np.squeeze(image_np)  # Remove the channel dimension\n",
        "plt.imshow(image_np, cmap='gray')\n",
        "plt.show()\n",
        "\n",
        "# Print the label\n",
        "label_np = label_tensor.numpy()\n",
        "label_index = np.argmax(label_np) + 1\n",
        "label_mapping = {1: \"CLL\", 2: \"FL\", 3: \"MCL\"}\n",
        "print(\"Label:\", label_mapping[label_index])"
      ]
    },
    {
      "cell_type": "markdown",
      "metadata": {
        "id": "ZFvpadhXzpfe"
      },
      "source": [
        "Question:\n",
        "\n",
        "Is the training/val/test enough? Should this split have been done differently? And why we need images from a person not showing in training and testing set simutaneously?"
      ]
    },
    {
      "cell_type": "markdown",
      "metadata": {
        "id": "8pWWQFyvz2kB"
      },
      "source": [
        "The training/validation/test split used is generally sufficient for this dataset. assigned approximately 70% of the data to the training set, 10% to the validation set, and 20% to the test set. This is a common distribution for splitting datasets\n",
        "\n",
        "By ensuring that images from a single patient do not appear in both the training and testing sets, you can be more confident that the model is learning general features that will help it perform well on unseen data from new patients.\n",
        "\n",
        "As for the splitting method, predefined list of patients can be used for validation and testing sets. While this approach is fine, using a more random approach such as stratified k-fold cross-validation can be considered. This method ensures that each fold has a similar distribution of labels and can provide a better estimate of the model's performance on unseen data. However, when using cross-validation, it should still be ensured that the same patient's images do not appear in multiple folds.\n"
      ]
    },
    {
      "cell_type": "markdown",
      "metadata": {
        "id": "-LfhAGphPvS2"
      },
      "source": [
        "## Part II\n",
        "Train a Convolutional Neural Network (CNN) to do classification."
      ]
    },
    {
      "cell_type": "markdown",
      "metadata": {
        "id": "nqWNwf_X0InW"
      },
      "source": [
        "### Task 4 :\n",
        "Create the dataloader (see the reference in Task.3, please feel free to set parameters).\n"
      ]
    },
    {
      "cell_type": "code",
      "execution_count": null,
      "metadata": {
        "id": "qNf_TT2N2CWG",
        "colab": {
          "base_uri": "https://localhost:8080/"
        },
        "outputId": "02915c2e-c38d-48ae-9a4e-c12771601f1b"
      },
      "outputs": [
        {
          "output_type": "stream",
          "name": "stderr",
          "text": [
            "/usr/local/lib/python3.9/dist-packages/torch/utils/data/dataloader.py:554: UserWarning: This DataLoader will create 4 worker processes in total. Our suggested max number of worker in current system is 2, which is smaller than what this DataLoader is going to create. Please be aware that excessive worker creation might get DataLoader running slow or even freeze, lower the worker number to avoid potential slowness/freeze if necessary.\n",
            "  warnings.warn(_create_warning_msg(\n"
          ]
        }
      ],
      "source": [
        "# YOUR CODES GO HERE\n",
        "from torch.utils.data import DataLoader\n",
        "\n",
        "# Set the batch size\n",
        "batch_size = 16\n",
        "\n",
        "# Create the dataloaders\n",
        "train_dataloader = DataLoader(train_dataset, batch_size=batch_size, shuffle=True, num_workers=2)\n",
        "validation_dataloader = DataLoader(validation_dataset, batch_size=batch_size, shuffle=False, num_workers=4)\n",
        "test_dataloader = DataLoader(test_dataset, batch_size=batch_size, shuffle=False, num_workers=4)\n",
        "\n"
      ]
    },
    {
      "cell_type": "markdown",
      "metadata": {
        "id": "zCpW8FuJ_lpo"
      },
      "source": [
        "### Task 5 :\n",
        "\n",
        "Construct and Train a convolutional neural network using pytorch.[Reference Link](https://pytorch.org/tutorials/beginner/basics/buildmodel_tutorial.html)"
      ]
    },
    {
      "cell_type": "markdown",
      "metadata": {
        "id": "2ndh4UwE4hU-"
      },
      "source": [
        "You could construct your own structure of the CNN. But there are some restrictions in this task:\n",
        "\n",
        "1. Convolution layers should be no more than 3 layers.\n",
        "2. Use linear layer(s) to condese your features after the convolution layers.\n",
        "3. Batch normalization is needed. Drop out is optional.\n",
        "4. Use ReLU function as your activation function."
      ]
    },
    {
      "cell_type": "code",
      "execution_count": null,
      "metadata": {
        "id": "afxIASEp2y6q"
      },
      "outputs": [],
      "source": [
        "import torch.nn as nn\n",
        "\n",
        "class CNN(nn.Module):\n",
        "    def __init__(self):\n",
        "        super(CNN, self).__init__()\n",
        "\n",
        "        self.conv1 = nn.Sequential(\n",
        "            nn.Conv2d(1, 16, kernel_size=3, stride=1, padding=1),\n",
        "            nn.BatchNorm2d(16),\n",
        "            nn.ReLU(),\n",
        "            nn.MaxPool2d(kernel_size=2, stride=2)\n",
        "        )\n",
        "\n",
        "        self.conv2 = nn.Sequential(\n",
        "            nn.Conv2d(16, 32, kernel_size=3, stride=1, padding=1),\n",
        "            nn.BatchNorm2d(32),\n",
        "            nn.ReLU(),\n",
        "            nn.MaxPool2d(kernel_size=2, stride=2)\n",
        "        )\n",
        "\n",
        "        self.conv3 = nn.Sequential(\n",
        "            nn.Conv2d(32, 64, kernel_size=3, stride=1, padding=1),\n",
        "            nn.BatchNorm2d(64),\n",
        "            nn.ReLU(),\n",
        "            nn.MaxPool2d(kernel_size=2, stride=2)\n",
        "        )\n",
        "\n",
        "        self.fc1 = nn.Linear(64*16*16, 128)\n",
        "        self.fc2 = nn.Linear(128, 3)\n",
        "\n",
        "    def forward(self, x):\n",
        "        x = self.conv1(x)\n",
        "        x = self.conv2(x)\n",
        "        x = self.conv3(x)\n",
        "\n",
        "        # Flatten the output from the convolutional layers\n",
        "        x = x.view(x.size(0), -1)\n",
        "\n",
        "        x = nn.ReLU()(self.fc1(x))\n",
        "        x = self.fc2(x)\n",
        "        return x\n"
      ]
    },
    {
      "cell_type": "code",
      "execution_count": null,
      "metadata": {
        "colab": {
          "base_uri": "https://localhost:8080/"
        },
        "id": "i4s0H5Rj8bj3",
        "outputId": "5d0ababe-edfc-4727-f8a7-5a65c07da3ae"
      },
      "outputs": [
        {
          "output_type": "stream",
          "name": "stdout",
          "text": [
            "CNN(\n",
            "  (conv1): Sequential(\n",
            "    (0): Conv2d(1, 16, kernel_size=(3, 3), stride=(1, 1), padding=(1, 1))\n",
            "    (1): BatchNorm2d(16, eps=1e-05, momentum=0.1, affine=True, track_running_stats=True)\n",
            "    (2): ReLU()\n",
            "    (3): MaxPool2d(kernel_size=2, stride=2, padding=0, dilation=1, ceil_mode=False)\n",
            "  )\n",
            "  (conv2): Sequential(\n",
            "    (0): Conv2d(16, 32, kernel_size=(3, 3), stride=(1, 1), padding=(1, 1))\n",
            "    (1): BatchNorm2d(32, eps=1e-05, momentum=0.1, affine=True, track_running_stats=True)\n",
            "    (2): ReLU()\n",
            "    (3): MaxPool2d(kernel_size=2, stride=2, padding=0, dilation=1, ceil_mode=False)\n",
            "  )\n",
            "  (conv3): Sequential(\n",
            "    (0): Conv2d(32, 64, kernel_size=(3, 3), stride=(1, 1), padding=(1, 1))\n",
            "    (1): BatchNorm2d(64, eps=1e-05, momentum=0.1, affine=True, track_running_stats=True)\n",
            "    (2): ReLU()\n",
            "    (3): MaxPool2d(kernel_size=2, stride=2, padding=0, dilation=1, ceil_mode=False)\n",
            "  )\n",
            "  (fc1): Linear(in_features=16384, out_features=128, bias=True)\n",
            "  (fc2): Linear(in_features=128, out_features=3, bias=True)\n",
            ")\n"
          ]
        }
      ],
      "source": [
        "model = CNN()\n",
        "print(model)"
      ]
    },
    {
      "cell_type": "markdown",
      "metadata": {
        "id": "hzzE7dOI9vYY"
      },
      "source": [
        "Train the network using traing and validation dataset using your own setting (optimizer, criterion, epoch number, batch size) for training.\n",
        "\n",
        "BUT You need to print AT LEAST loss and accuracy on training and validation set in each epoch."
      ]
    },
    {
      "cell_type": "code",
      "execution_count": null,
      "metadata": {
        "id": "dTNZCmQL3orD"
      },
      "outputs": [],
      "source": [
        "# Train the network using traing and validation dataset by your own setting for training.\n",
        "# BUT You need to print AT LEAST loss and accuracy on training and validation set in each epoch.\n",
        "def Train_model(model,epochs,optmizer,criterion):\n",
        "    \"\"\"\n",
        "    model: input model\n",
        "    epochs: training epoch number\n",
        "    optimizer: the optimizer\n",
        "    criterion: the criterion for the loss\n",
        "\n",
        "\"\"\"\n",
        "    # YOUR CODES GO HERE\n",
        "\n"
      ]
    },
    {
      "cell_type": "code",
      "execution_count": null,
      "metadata": {
        "id": "oJS46GZnFJt_"
      },
      "outputs": [],
      "source": [
        "import torch.optim as optim\n",
        "from torch.autograd import Variable\n",
        "\n",
        "def Train_model(model, train_loader, val_loader, epochs, optimizer, criterion):\n",
        "    model.train()\n",
        "\n",
        "    for epoch in range(epochs):\n",
        "        # Training\n",
        "        train_loss = 0.0\n",
        "        train_correct = 0\n",
        "\n",
        "        for batch_idx, (data, target) in enumerate(train_loader):\n",
        "            data, target = Variable(data), Variable(target)\n",
        "            optimizer.zero_grad()\n",
        "            output = model(data)\n",
        "            loss = criterion(output, torch.max(target, 1)[1])\n",
        "            loss.backward()\n",
        "            optimizer.step()\n",
        "\n",
        "            train_loss += loss.item()\n",
        "            pred = output.data.max(1, keepdim=True)[1]\n",
        "            train_correct += pred.eq(target.data.max(1, keepdim=True)[1]).cpu().sum().item()\n",
        "\n",
        "        train_loss /= len(train_loader.dataset)\n",
        "        train_accuracy = 100. * train_correct / len(train_loader.dataset)\n",
        "\n",
        "        # Validation\n",
        "        model.eval()\n",
        "        val_loss = 0.0\n",
        "        val_correct = 0\n",
        "\n",
        "        with torch.no_grad():\n",
        "            for data, target in val_loader:\n",
        "                data, target = Variable(data), Variable(target)\n",
        "                output = model(data)\n",
        "                val_loss += criterion(output, torch.max(target, 1)[1]).item()\n",
        "                pred = output.data.max(1, keepdim=True)[1]\n",
        "                val_correct += pred.eq(target.data.max(1, keepdim=True)[1]).cpu().sum().item()\n",
        "\n",
        "        val_loss /= len(val_loader.dataset)\n",
        "        val_accuracy = 100. * val_correct / len(val_loader.dataset)\n",
        "\n",
        "        print('Epoch: {}  Train Loss: {:.6f}  Train Accuracy: {:.2f}%  Validation Loss: {:.6f}  Validation Accuracy: {:.2f}%'.format(epoch + 1, train_loss, train_accuracy, val_loss, val_accuracy))\n",
        "\n"
      ]
    },
    {
      "cell_type": "code",
      "execution_count": null,
      "metadata": {
        "colab": {
          "base_uri": "https://localhost:8080/"
        },
        "id": "jxAWL6zwvrYl",
        "outputId": "e1ff1da1-5141-4524-aebc-081dfce2b0a4"
      },
      "outputs": [
        {
          "output_type": "stream",
          "name": "stdout",
          "text": [
            "Epoch: 1  Train Loss: 0.262271  Train Accuracy: 44.00%  Validation Loss: 0.123245  Validation Accuracy: 32.35%\n",
            "Epoch: 2  Train Loss: 0.081718  Train Accuracy: 32.36%  Validation Loss: 0.085412  Validation Accuracy: 44.12%\n",
            "Epoch: 3  Train Loss: 0.072677  Train Accuracy: 37.09%  Validation Loss: 0.102881  Validation Accuracy: 58.82%\n",
            "Epoch: 4  Train Loss: 0.069559  Train Accuracy: 44.00%  Validation Loss: 0.093751  Validation Accuracy: 38.24%\n",
            "Epoch: 5  Train Loss: 0.068054  Train Accuracy: 41.45%  Validation Loss: 0.094738  Validation Accuracy: 44.12%\n",
            "Epoch: 6  Train Loss: 0.065304  Train Accuracy: 49.09%  Validation Loss: 0.095837  Validation Accuracy: 58.82%\n",
            "Epoch: 7  Train Loss: 0.063903  Train Accuracy: 52.00%  Validation Loss: 0.091299  Validation Accuracy: 55.88%\n",
            "Epoch: 8  Train Loss: 0.064308  Train Accuracy: 52.73%  Validation Loss: 0.096884  Validation Accuracy: 50.00%\n",
            "Epoch: 9  Train Loss: 0.064702  Train Accuracy: 51.64%  Validation Loss: 0.093176  Validation Accuracy: 55.88%\n",
            "Epoch: 10  Train Loss: 0.063504  Train Accuracy: 49.82%  Validation Loss: 0.094401  Validation Accuracy: 50.00%\n",
            "Epoch: 11  Train Loss: 0.062033  Train Accuracy: 56.00%  Validation Loss: 0.101670  Validation Accuracy: 47.06%\n",
            "Epoch: 12  Train Loss: 0.062886  Train Accuracy: 51.27%  Validation Loss: 0.094814  Validation Accuracy: 55.88%\n",
            "Epoch: 13  Train Loss: 0.062029  Train Accuracy: 52.00%  Validation Loss: 0.096215  Validation Accuracy: 61.76%\n",
            "Epoch: 14  Train Loss: 0.060346  Train Accuracy: 52.73%  Validation Loss: 0.095456  Validation Accuracy: 38.24%\n",
            "Epoch: 15  Train Loss: 0.061859  Train Accuracy: 50.55%  Validation Loss: 0.092834  Validation Accuracy: 47.06%\n",
            "Epoch: 16  Train Loss: 0.061557  Train Accuracy: 53.45%  Validation Loss: 0.090684  Validation Accuracy: 58.82%\n",
            "Epoch: 17  Train Loss: 0.060461  Train Accuracy: 52.36%  Validation Loss: 0.091102  Validation Accuracy: 61.76%\n",
            "Epoch: 18  Train Loss: 0.057839  Train Accuracy: 54.55%  Validation Loss: 0.093612  Validation Accuracy: 64.71%\n",
            "Epoch: 19  Train Loss: 0.056750  Train Accuracy: 54.91%  Validation Loss: 0.091990  Validation Accuracy: 52.94%\n",
            "Epoch: 20  Train Loss: 0.057031  Train Accuracy: 54.18%  Validation Loss: 0.094714  Validation Accuracy: 61.76%\n",
            "Epoch: 21  Train Loss: 0.057775  Train Accuracy: 50.91%  Validation Loss: 0.089601  Validation Accuracy: 61.76%\n",
            "Epoch: 22  Train Loss: 0.056130  Train Accuracy: 55.64%  Validation Loss: 0.108507  Validation Accuracy: 58.82%\n",
            "Epoch: 23  Train Loss: 0.053476  Train Accuracy: 58.91%  Validation Loss: 0.097650  Validation Accuracy: 58.82%\n",
            "Epoch: 24  Train Loss: 0.054664  Train Accuracy: 56.00%  Validation Loss: 0.090913  Validation Accuracy: 41.18%\n",
            "Epoch: 25  Train Loss: 0.059267  Train Accuracy: 57.09%  Validation Loss: 0.095381  Validation Accuracy: 55.88%\n",
            "Epoch: 26  Train Loss: 0.059849  Train Accuracy: 54.91%  Validation Loss: 0.095276  Validation Accuracy: 58.82%\n",
            "Epoch: 27  Train Loss: 0.055369  Train Accuracy: 58.18%  Validation Loss: 0.097609  Validation Accuracy: 61.76%\n",
            "Epoch: 28  Train Loss: 0.055191  Train Accuracy: 58.91%  Validation Loss: 0.092777  Validation Accuracy: 55.88%\n",
            "Epoch: 29  Train Loss: 0.052652  Train Accuracy: 58.18%  Validation Loss: 0.095262  Validation Accuracy: 50.00%\n",
            "Epoch: 30  Train Loss: 0.055178  Train Accuracy: 61.45%  Validation Loss: 0.096859  Validation Accuracy: 47.06%\n",
            "Epoch: 31  Train Loss: 0.050305  Train Accuracy: 61.82%  Validation Loss: 0.087465  Validation Accuracy: 61.76%\n",
            "Epoch: 32  Train Loss: 0.052436  Train Accuracy: 54.91%  Validation Loss: 0.100620  Validation Accuracy: 38.24%\n",
            "Epoch: 33  Train Loss: 0.053024  Train Accuracy: 56.73%  Validation Loss: 0.093520  Validation Accuracy: 47.06%\n",
            "Epoch: 34  Train Loss: 0.049020  Train Accuracy: 62.91%  Validation Loss: 0.106860  Validation Accuracy: 23.53%\n",
            "Epoch: 35  Train Loss: 0.054197  Train Accuracy: 56.36%  Validation Loss: 0.096574  Validation Accuracy: 50.00%\n",
            "Epoch: 36  Train Loss: 0.054411  Train Accuracy: 55.64%  Validation Loss: 0.089739  Validation Accuracy: 44.12%\n",
            "Epoch: 37  Train Loss: 0.052501  Train Accuracy: 60.00%  Validation Loss: 0.090078  Validation Accuracy: 55.88%\n",
            "Epoch: 38  Train Loss: 0.049075  Train Accuracy: 63.27%  Validation Loss: 0.088811  Validation Accuracy: 61.76%\n",
            "Epoch: 39  Train Loss: 0.050594  Train Accuracy: 60.73%  Validation Loss: 0.089878  Validation Accuracy: 61.76%\n",
            "Epoch: 40  Train Loss: 0.053752  Train Accuracy: 61.45%  Validation Loss: 0.084100  Validation Accuracy: 52.94%\n",
            "Epoch: 41  Train Loss: 0.052730  Train Accuracy: 63.64%  Validation Loss: 0.100136  Validation Accuracy: 58.82%\n",
            "Epoch: 42  Train Loss: 0.047825  Train Accuracy: 61.82%  Validation Loss: 0.100416  Validation Accuracy: 41.18%\n",
            "Epoch: 43  Train Loss: 0.049509  Train Accuracy: 64.73%  Validation Loss: 0.107662  Validation Accuracy: 58.82%\n",
            "Epoch: 44  Train Loss: 0.047668  Train Accuracy: 62.18%  Validation Loss: 0.091120  Validation Accuracy: 55.88%\n",
            "Epoch: 45  Train Loss: 0.046006  Train Accuracy: 67.27%  Validation Loss: 0.086431  Validation Accuracy: 38.24%\n",
            "Epoch: 46  Train Loss: 0.047280  Train Accuracy: 68.73%  Validation Loss: 0.090545  Validation Accuracy: 52.94%\n",
            "Epoch: 47  Train Loss: 0.046147  Train Accuracy: 66.91%  Validation Loss: 0.101899  Validation Accuracy: 41.18%\n",
            "Epoch: 48  Train Loss: 0.048989  Train Accuracy: 66.18%  Validation Loss: 0.093143  Validation Accuracy: 55.88%\n",
            "Epoch: 49  Train Loss: 0.047370  Train Accuracy: 63.27%  Validation Loss: 0.086549  Validation Accuracy: 44.12%\n",
            "Epoch: 50  Train Loss: 0.045384  Train Accuracy: 66.18%  Validation Loss: 0.120539  Validation Accuracy: 35.29%\n"
          ]
        }
      ],
      "source": [
        "# Set your training settings\n",
        "learning_rate = 0.001\n",
        "num_epochs = 50\n",
        "\n",
        "# Define the optimizer and loss criterion\n",
        "optimizer = torch.optim.Adam(model.parameters(), lr=learning_rate)\n",
        "criterion = torch.nn.CrossEntropyLoss()\n",
        "\n",
        "# Training\n",
        "Train_model(model, train_dataloader, validation_dataloader, num_epochs, optimizer, criterion)\n"
      ]
    },
    {
      "cell_type": "markdown",
      "metadata": {
        "id": "tLPQbqxk3Tia"
      },
      "source": [
        "### Task 5.5 :\n",
        "\n",
        "Evaluate the network performance using test dataset."
      ]
    },
    {
      "cell_type": "code",
      "execution_count": null,
      "metadata": {
        "id": "k758f7E63dRA"
      },
      "outputs": [],
      "source": [
        "# Please plot the confusion matrix and print out the accuracy on the testing set\n",
        "\n",
        "# YOUR CODES GO HERE"
      ]
    },
    {
      "cell_type": "code",
      "execution_count": null,
      "metadata": {
        "id": "jMdX4BG4LLWy"
      },
      "outputs": [],
      "source": [
        "import numpy as np\n",
        "from sklearn.metrics import confusion_matrix\n",
        "\n",
        "def evaluate_model(model, test_dataloader):\n",
        "    model.eval()\n",
        "    correct = 0\n",
        "    total = 0\n",
        "    all_preds = []\n",
        "    all_targets = []\n",
        "\n",
        "    with torch.no_grad():\n",
        "\n",
        "        for images, labels in test_dataloader:\n",
        "            images, labels = images.to(device), labels.to(device)\n",
        "            outputs = model(images)\n",
        "            _, predicted = torch.max(outputs, 1)\n",
        "            total += labels.size(0)\n",
        "            correct += (predicted == torch.argmax(labels, 1)).sum().item()\n",
        "\n",
        "            all_preds.extend(predicted.cpu().numpy())\n",
        "            all_targets.extend(torch.argmax(labels, 1).cpu().numpy())\n",
        "\n",
        "    accuracy = correct / total\n",
        "    cm = confusion_matrix(all_targets, all_preds)\n",
        "\n",
        "    return accuracy, cm\n"
      ]
    },
    {
      "cell_type": "code",
      "execution_count": null,
      "metadata": {
        "colab": {
          "base_uri": "https://localhost:8080/",
          "height": 421
        },
        "id": "FdOs5OXvLMQw",
        "outputId": "3e2614d7-6dc5-45d5-9289-9c5cd90161d3"
      },
      "outputs": [
        {
          "output_type": "stream",
          "name": "stdout",
          "text": [
            "Accuracy on the test set: 50.77%\n"
          ]
        },
        {
          "output_type": "display_data",
          "data": {
            "text/plain": [
              "<Figure size 576x432 with 2 Axes>"
            ],
            "image/png": "[encoded data removed]"
          },
          "metadata": {
            "needs_background": "light"
          }
        }
      ],
      "source": [
        "import seaborn as sns\n",
        "import matplotlib.pyplot as plt\n",
        "\n",
        "# Set the device\n",
        "device = torch.device('cuda' if torch.cuda.is_available() else 'cpu')\n",
        "model = model.to(device)\n",
        "\n",
        "accuracy, cm = evaluate_model(model, test_dataloader)\n",
        "\n",
        "print(f\"Accuracy on the test set: {accuracy:.2%}\")\n",
        "\n",
        "# Plot the confusion matrix\n",
        "fig, ax = plt.subplots(figsize=(8, 6))\n",
        "sns.heatmap(cm, annot=True, fmt='d', cmap='Blues', ax=ax, xticklabels=label_mapping.values(), yticklabels=label_mapping.values())\n",
        "ax.set_xlabel('Predicted')\n",
        "ax.set_ylabel('True')\n",
        "ax.set_title('Confusion Matrix')\n",
        "plt.show()\n"
      ]
    },
    {
      "cell_type": "markdown",
      "metadata": {
        "id": "SdsXgXNGvjgd"
      },
      "source": [
        "### Task 6:\n",
        "Data imbalance.\n",
        "\n",
        "As we can see, the three classes are not perfectly balanced, which might introduce bias on between them. Please modify your loss function nn.CrossEntropyLoss() to take the class inbalance into consideration, and see if the accuracy on the same test set is improved or not compared to Task 5 when only the loss function is changed. [10 Points]\n"
      ]
    },
    {
      "cell_type": "code",
      "execution_count": null,
      "metadata": {
        "id": "UWFf82FoURZw"
      },
      "outputs": [],
      "source": [
        "# Calculate class frequencies\n",
        "unique_labels, class_freq = np.unique(Label_train, return_counts=True)\n",
        "\n",
        "# Calculate weights\n",
        "num_classes = len(unique_labels)\n",
        "weights = np.zeros(num_classes)\n",
        "for i in range(num_classes):\n",
        "    weights[i] = 1.0 / class_freq[i]\n",
        "\n",
        "weights = weights / np.sum(weights)\n",
        "weights_tensor = torch.FloatTensor(weights).to(device)\n",
        "\n",
        "# Update the loss criterion\n",
        "criterion_weighted = torch.nn.CrossEntropyLoss(weight=weights_tensor)"
      ]
    },
    {
      "cell_type": "code",
      "execution_count": null,
      "metadata": {
        "colab": {
          "base_uri": "https://localhost:8080/",
          "height": 1000
        },
        "id": "TGxUfA9rOeAA",
        "outputId": "bd286e41-f71d-46e8-8cff-afd35990fe23"
      },
      "outputs": [
        {
          "output_type": "stream",
          "name": "stderr",
          "text": [
            "/usr/local/lib/python3.9/dist-packages/torch/utils/data/dataloader.py:554: UserWarning: This DataLoader will create 4 worker processes in total. Our suggested max number of worker in current system is 2, which is smaller than what this DataLoader is going to create. Please be aware that excessive worker creation might get DataLoader running slow or even freeze, lower the worker number to avoid potential slowness/freeze if necessary.\n",
            "  warnings.warn(_create_warning_msg(\n"
          ]
        },
        {
          "output_type": "stream",
          "name": "stdout",
          "text": [
            "Epoch: 1  Train Loss: 0.071562  Train Accuracy: 36.00%  Validation Loss: 0.093497  Validation Accuracy: 32.35%\n",
            "Epoch: 2  Train Loss: 0.072069  Train Accuracy: 32.00%  Validation Loss: 0.093497  Validation Accuracy: 32.35%\n",
            "Epoch: 3  Train Loss: 0.072366  Train Accuracy: 32.00%  Validation Loss: 0.093497  Validation Accuracy: 32.35%\n",
            "Epoch: 4  Train Loss: 0.072091  Train Accuracy: 32.00%  Validation Loss: 0.093497  Validation Accuracy: 32.35%\n",
            "Epoch: 5  Train Loss: 0.072113  Train Accuracy: 32.00%  Validation Loss: 0.093497  Validation Accuracy: 32.35%\n",
            "Epoch: 6  Train Loss: 0.072306  Train Accuracy: 32.00%  Validation Loss: 0.093497  Validation Accuracy: 32.35%\n",
            "Epoch: 7  Train Loss: 0.072254  Train Accuracy: 32.00%  Validation Loss: 0.093497  Validation Accuracy: 32.35%\n",
            "Epoch: 8  Train Loss: 0.072204  Train Accuracy: 32.00%  Validation Loss: 0.093497  Validation Accuracy: 32.35%\n",
            "Epoch: 9  Train Loss: 0.072106  Train Accuracy: 32.00%  Validation Loss: 0.093497  Validation Accuracy: 32.35%\n",
            "Epoch: 10  Train Loss: 0.072447  Train Accuracy: 32.00%  Validation Loss: 0.093497  Validation Accuracy: 32.35%\n",
            "Epoch: 11  Train Loss: 0.072158  Train Accuracy: 32.00%  Validation Loss: 0.093497  Validation Accuracy: 32.35%\n",
            "Epoch: 12  Train Loss: 0.072151  Train Accuracy: 32.00%  Validation Loss: 0.093497  Validation Accuracy: 32.35%\n",
            "Epoch: 13  Train Loss: 0.072217  Train Accuracy: 32.00%  Validation Loss: 0.093497  Validation Accuracy: 32.35%\n",
            "Epoch: 14  Train Loss: 0.072315  Train Accuracy: 32.00%  Validation Loss: 0.093497  Validation Accuracy: 32.35%\n",
            "Epoch: 15  Train Loss: 0.072235  Train Accuracy: 32.00%  Validation Loss: 0.093497  Validation Accuracy: 32.35%\n",
            "Epoch: 16  Train Loss: 0.072051  Train Accuracy: 32.00%  Validation Loss: 0.093497  Validation Accuracy: 32.35%\n",
            "Epoch: 17  Train Loss: 0.072210  Train Accuracy: 32.00%  Validation Loss: 0.093497  Validation Accuracy: 32.35%\n",
            "Epoch: 18  Train Loss: 0.072265  Train Accuracy: 32.00%  Validation Loss: 0.093497  Validation Accuracy: 32.35%\n",
            "Epoch: 19  Train Loss: 0.072228  Train Accuracy: 32.00%  Validation Loss: 0.093497  Validation Accuracy: 32.35%\n",
            "Epoch: 20  Train Loss: 0.072308  Train Accuracy: 32.00%  Validation Loss: 0.093497  Validation Accuracy: 32.35%\n",
            "Epoch: 21  Train Loss: 0.072083  Train Accuracy: 32.00%  Validation Loss: 0.093497  Validation Accuracy: 32.35%\n",
            "Epoch: 22  Train Loss: 0.072088  Train Accuracy: 32.00%  Validation Loss: 0.093497  Validation Accuracy: 32.35%\n",
            "Epoch: 23  Train Loss: 0.072464  Train Accuracy: 32.00%  Validation Loss: 0.093497  Validation Accuracy: 32.35%\n",
            "Epoch: 24  Train Loss: 0.072329  Train Accuracy: 32.00%  Validation Loss: 0.093497  Validation Accuracy: 32.35%\n",
            "Epoch: 25  Train Loss: 0.072278  Train Accuracy: 32.00%  Validation Loss: 0.093497  Validation Accuracy: 32.35%\n",
            "Epoch: 26  Train Loss: 0.072459  Train Accuracy: 32.00%  Validation Loss: 0.093497  Validation Accuracy: 32.35%\n",
            "Epoch: 27  Train Loss: 0.072398  Train Accuracy: 32.00%  Validation Loss: 0.093497  Validation Accuracy: 32.35%\n",
            "Epoch: 28  Train Loss: 0.072402  Train Accuracy: 32.00%  Validation Loss: 0.093497  Validation Accuracy: 32.35%\n",
            "Epoch: 29  Train Loss: 0.072140  Train Accuracy: 32.00%  Validation Loss: 0.093497  Validation Accuracy: 32.35%\n",
            "Epoch: 30  Train Loss: 0.072102  Train Accuracy: 32.00%  Validation Loss: 0.093497  Validation Accuracy: 32.35%\n",
            "Epoch: 31  Train Loss: 0.072017  Train Accuracy: 32.00%  Validation Loss: 0.093497  Validation Accuracy: 32.35%\n",
            "Epoch: 32  Train Loss: 0.072095  Train Accuracy: 32.00%  Validation Loss: 0.093497  Validation Accuracy: 32.35%\n",
            "Epoch: 33  Train Loss: 0.072106  Train Accuracy: 32.00%  Validation Loss: 0.093497  Validation Accuracy: 32.35%\n",
            "Epoch: 34  Train Loss: 0.072027  Train Accuracy: 32.00%  Validation Loss: 0.093497  Validation Accuracy: 32.35%\n",
            "Epoch: 35  Train Loss: 0.072114  Train Accuracy: 32.00%  Validation Loss: 0.093497  Validation Accuracy: 32.35%\n",
            "Epoch: 36  Train Loss: 0.072174  Train Accuracy: 32.00%  Validation Loss: 0.093497  Validation Accuracy: 32.35%\n",
            "Epoch: 37  Train Loss: 0.072424  Train Accuracy: 32.00%  Validation Loss: 0.093497  Validation Accuracy: 32.35%\n",
            "Epoch: 38  Train Loss: 0.072186  Train Accuracy: 32.00%  Validation Loss: 0.093497  Validation Accuracy: 32.35%\n",
            "Epoch: 39  Train Loss: 0.072464  Train Accuracy: 32.00%  Validation Loss: 0.093497  Validation Accuracy: 32.35%\n",
            "Epoch: 40  Train Loss: 0.072097  Train Accuracy: 32.00%  Validation Loss: 0.093497  Validation Accuracy: 32.35%\n",
            "Epoch: 41  Train Loss: 0.072150  Train Accuracy: 32.00%  Validation Loss: 0.093497  Validation Accuracy: 32.35%\n",
            "Epoch: 42  Train Loss: 0.072380  Train Accuracy: 32.00%  Validation Loss: 0.093497  Validation Accuracy: 32.35%\n",
            "Epoch: 43  Train Loss: 0.072255  Train Accuracy: 32.00%  Validation Loss: 0.093497  Validation Accuracy: 32.35%\n",
            "Epoch: 44  Train Loss: 0.072270  Train Accuracy: 32.00%  Validation Loss: 0.093497  Validation Accuracy: 32.35%\n",
            "Epoch: 45  Train Loss: 0.072047  Train Accuracy: 32.00%  Validation Loss: 0.093497  Validation Accuracy: 32.35%\n",
            "Epoch: 46  Train Loss: 0.072042  Train Accuracy: 32.00%  Validation Loss: 0.093497  Validation Accuracy: 32.35%\n",
            "Epoch: 47  Train Loss: 0.072459  Train Accuracy: 32.00%  Validation Loss: 0.093497  Validation Accuracy: 32.35%\n",
            "Epoch: 48  Train Loss: 0.072595  Train Accuracy: 32.00%  Validation Loss: 0.093497  Validation Accuracy: 32.35%\n",
            "Epoch: 49  Train Loss: 0.072292  Train Accuracy: 32.00%  Validation Loss: 0.093497  Validation Accuracy: 32.35%\n",
            "Epoch: 50  Train Loss: 0.072148  Train Accuracy: 32.00%  Validation Loss: 0.093497  Validation Accuracy: 32.35%\n",
            "Accuracy on the test set with the adjusted loss function: 35.38%\n"
          ]
        },
        {
          "output_type": "display_data",
          "data": {
            "text/plain": [
              "<Figure size 576x432 with 2 Axes>"
            ],
            "image/png": "[encoded data removed]"
          },
          "metadata": {
            "needs_background": "light"
          }
        }
      ],
      "source": [
        "# Create a new model\n",
        "model_new = CNN()\n",
        "#model_new = model_new.to(device)\n",
        "\n",
        "# Train the new model with the adjusted loss function\n",
        "Train_model(model_new, train_dataloader, validation_dataloader, num_epochs, optimizer, criterion_weighted)\n",
        "\n",
        "# Evaluate the new model on the test set\n",
        "accuracy_new, cm_new = evaluate_model(model_new, test_dataloader)\n",
        "\n",
        "print(f\"Accuracy on the test set with the adjusted loss function: {accuracy_new:.2%}\")\n",
        "\n",
        "# Plot the new confusion matrix\n",
        "fig, ax = plt.subplots(figsize=(8, 6))\n",
        "sns.heatmap(cm_new, annot=True, fmt='d', cmap='Blues', ax=ax, xticklabels=label_mapping.values(), yticklabels=label_mapping.values())\n",
        "ax.set_xlabel('Predicted')\n",
        "ax.set_ylabel('True')\n",
        "ax.set_title('Confusion Matrix with Adjusted Loss Function')\n",
        "plt.show()\n"
      ]
    },
    {
      "cell_type": "markdown",
      "metadata": {
        "id": "95zGKRyShXgs"
      },
      "source": [
        "Compare the results before and after compensating the data imbalance. Did it work? And what could you find after comparing the two confusion matrixs?"
      ]
    },
    {
      "cell_type": "markdown",
      "metadata": {
        "id": "N0HFaHM2hk7n"
      },
      "source": [
        "In my case, correcting for class imbalance led to a classifier that performed worse, which is not an expected result. I assume I may have done something wrong when calculating the weights. But in training the model after accounting for imbalances, the train loss, train accuracy, validation loss, and validation accuracy does not change. Train Loss: 0.072148  Train Accuracy: 32.00%  Validation Loss: 0.093497  Validation Accuracy: 32.35%\n",
        "\n",
        "Strictly in terms of the confusion matrices, lets start with confusion matrix before accounting for class imbalance. \\\\\n",
        "Correct predictions: \\\\\n",
        "Class 1: 17 \\\\\n",
        "Class 2: 15 \\\\\n",
        "Class 3: 1 \\\\\n",
        "\\\\Incorrect predictions: \\\\\n",
        "1 instance of class 1 predicted as class 2, and 3 instances as class 3 \\\\\n",
        "6 instances of class 2 predicted as class 1 \\\\\n",
        "14 instances of class 3 predicted as class 1, and 8 instances as class 2 \\\\\n",
        "after accounting for the class imbalance, the confusion matrix is \\\\\n",
        "Correct predictions: \\\\\n",
        "Class 1: 0 \\\\\n",
        "Class 2: 0 \\\\\n",
        "Class 3: 23 \\\\\n",
        "Incorrect predictions: \\\\\n",
        "All 21 instances of class 1 predicted as class 3 \\\\\n",
        "All 21 instances of class 2 predicted as class 3 \\\\\n",
        "\n",
        "Based on the confusion matrices, the first classifier (Confusion Matrix 1) is better overall. Although it has some difficulty in distinguishing between the three classes, it has a higher number of correct predictions for class 1 and class 2.\n",
        "\n",
        "The second classifier (Confusion Matrix 2) appears to only predict class 3, which indicates that it might be biased towards class 3 or not properly trained. The classifier does not correctly predict any instances of class 1 or class 2, making it less effective than the first classifier."
      ]
    },
    {
      "cell_type": "markdown",
      "metadata": {
        "id": "jOjKJybNRdw_"
      },
      "source": [
        "## Part III\n",
        "Transfer Learning and Finetuning"
      ]
    },
    {
      "cell_type": "markdown",
      "metadata": {
        "id": "HNFglqJuAq0m"
      },
      "source": [
        "### Task 7:\n",
        "Use pre-trained Res50 Model and finetune it for 3 classes in pytorch using the Lymphoma data. Train for 10 epoches, and in the first 5 epoches, do not freeze the parameters and train the whold model; in the last 5 epoches, freeze the part of Res50 and only train your classifier (last several fc layers). To achieve this, you may need to define a new training function Train_model_new()\n",
        "\n",
        "Please consider the class imbalance. Show performance using accuracy and confusion matrix\n",
        "> Pleae note you will need to also import the pre-process function for the model <br>\n",
        "> Nice tutorial to understand tranfer learning in Pytorch: https://pytorch.org/tutorials/beginner/transfer_learning_tutorial.html\n"
      ]
    },
    {
      "cell_type": "markdown",
      "metadata": {
        "id": "KTdnxCc-l1Gr"
      },
      "source": [
        "###### Maybe use pre-trained network as feature extractor for better accuracy (this reference for Keras also makes sense for Pytorch)\n",
        "https://machinelearningmastery.com/how-to-use-transfer-learning-when-developing-convolutional-neural-network-models/"
      ]
    },
    {
      "cell_type": "code",
      "execution_count": null,
      "metadata": {
        "id": "MNTe7-LVBIQ9"
      },
      "outputs": [],
      "source": [
        "# YOUR CODES GO HERE"
      ]
    },
    {
      "cell_type": "code",
      "execution_count": null,
      "metadata": {
        "id": "7F3IjXGutz6O"
      },
      "outputs": [],
      "source": [
        "import torch\n",
        "import torch.nn as nn\n",
        "import torch.optim as optim\n",
        "from torch.optim import lr_scheduler\n",
        "import torchvision\n",
        "from torchvision import datasets, models, transforms\n",
        "import numpy as np\n",
        "import matplotlib.pyplot as plt\n",
        "from sklearn.metrics import confusion_matrix\n"
      ]
    },
    {
      "cell_type": "code",
      "execution_count": null,
      "metadata": {
        "id": "-sscYN8kt1r4"
      },
      "outputs": [],
      "source": [
        "data_transforms = {\n",
        "    'train': transforms.Compose([\n",
        "        transforms.RandomResizedCrop(224),\n",
        "        transforms.RandomHorizontalFlip(),\n",
        "        transforms.ToTensor(),\n",
        "        transforms.Normalize([0.485, 0.456, 0.406], [0.229, 0.224, 0.225])\n",
        "    ]),\n",
        "    'val': transforms.Compose([\n",
        "        transforms.Resize(256),\n",
        "        transforms.CenterCrop(224),\n",
        "        transforms.ToTensor(),\n",
        "        transforms.Normalize([0.485, 0.456, 0.406], [0.229, 0.224, 0.225])\n",
        "    ]),\n",
        "}\n"
      ]
    },
    {
      "cell_type": "code",
      "execution_count": null,
      "metadata": {
        "id": "EZ1Mcffru0Nr"
      },
      "outputs": [],
      "source": [
        "image_datasets = {\n",
        "    'train': train_dataset,\n",
        "    'val': validation_dataset\n",
        "}\n",
        "\n",
        "dataloaders = {\n",
        "    'train': train_dataloader,\n",
        "    'val': validation_dataloader\n",
        "}\n",
        "\n",
        "dataset_sizes = {x: len(image_datasets[x]) for x in ['train', 'val']}\n",
        "#class_names = image_datasets['train'].classes\n"
      ]
    },
    {
      "cell_type": "code",
      "execution_count": null,
      "metadata": {
        "id": "BAhMfCk5xMFb"
      },
      "outputs": [],
      "source": [
        "import time\n",
        "import copy\n",
        "\n",
        "def train_model_new(model, criterion, optimizer, scheduler, num_epochs=25, freeze_epochs=5, duplicate_channels=False):\n",
        "    since = time.time()\n",
        "\n",
        "    best_model_wts = copy.deepcopy(model.state_dict())\n",
        "    best_acc = 0.0\n",
        "\n",
        "    for epoch in range(num_epochs):\n",
        "        print('Epoch {}/{}'.format(epoch, num_epochs - 1))\n",
        "        print('-' * 10)\n",
        "\n",
        "        # Each epoch has a training and validation phase\n",
        "        for phase in ['train', 'val']:\n",
        "            if phase == 'train':\n",
        "                model.train()  # Set model to training mode\n",
        "            else:\n",
        "                model.eval()   # Set model to evaluate mode\n",
        "\n",
        "            running_loss = 0.0\n",
        "            running_corrects = 0\n",
        "\n",
        "            # Iterate over data\n",
        "            for inputs, labels in dataloaders[phase]:\n",
        "                if duplicate_channels:\n",
        "                    inputs = inputs.repeat(1, 3, 1, 1)\n",
        "                inputs = inputs.to(device)\n",
        "                labels = labels.to(device)\n",
        "\n",
        "                # zero the parameter gradients\n",
        "                optimizer.zero_grad()\n",
        "\n",
        "                # forward\n",
        "                # track history if only in train\n",
        "                with torch.set_grad_enabled(phase == 'train'):\n",
        "                    outputs = model(inputs)\n",
        "                    _, preds = torch.max(outputs, 1)\n",
        "                    loss = criterion(outputs, labels)\n",
        "\n",
        "                    # backward + optimize only if in training phase\n",
        "                    if phase == 'train':\n",
        "                        loss.backward()\n",
        "                        optimizer.step()\n",
        "\n",
        "                # statistics\n",
        "                running_loss += loss.item() * inputs.size(0)\n",
        "                preds = preds.view(preds.size(0), -1)\n",
        "                labels = labels.view(labels.size(0), -1)\n",
        "                running_corrects += torch.sum(preds == labels)\n",
        "\n",
        "\n",
        "            if phase == 'train':\n",
        "                scheduler.step()\n",
        "\n",
        "            epoch_loss = running_loss / dataset_sizes[phase]\n",
        "            epoch_acc = running_corrects.double() / dataset_sizes[phase]\n",
        "\n",
        "            print('{} Loss: {:.4f} Acc: {:.4f}'.format(phase, epoch_loss, epoch_acc))\n",
        "\n",
        "            # deep copy the model\n",
        "            if phase == 'val' and epoch_acc > best_acc:\n",
        "                best_acc = epoch_acc\n",
        "                best_model_wts = copy.deepcopy(model.state_dict())\n",
        "\n",
        "        print()\n",
        "\n",
        "    time_elapsed = time.time() - since\n",
        "    print('Training complete in {:.0f}m {:.0f}s'.format(time_elapsed // 60, time_elapsed % 60))\n",
        "    print('Best val Acc: {:4f}'.format(best_acc))\n",
        "\n",
        "    # load best model weights\n",
        "    model.load_state_dict(best_model_wts)\n",
        "    return model\n"
      ]
    },
    {
      "cell_type": "code",
      "execution_count": null,
      "metadata": {
        "colab": {
          "base_uri": "https://localhost:8080/"
        },
        "id": "2vDY1QDeuC2R",
        "outputId": "59b03d83-4dac-48ba-8f77-f74f958ba062"
      },
      "outputs": [
        {
          "output_type": "stream",
          "name": "stderr",
          "text": [
            "/usr/local/lib/python3.9/dist-packages/torchvision/models/_utils.py:208: UserWarning: The parameter 'pretrained' is deprecated since 0.13 and may be removed in the future, please use 'weights' instead.\n",
            "  warnings.warn(\n",
            "/usr/local/lib/python3.9/dist-packages/torchvision/models/_utils.py:223: UserWarning: Arguments other than a weight enum or `None` for 'weights' are deprecated since 0.13 and may be removed in the future. The current behavior is equivalent to passing `weights=ResNet50_Weights.IMAGENET1K_V1`. You can also use `weights=ResNet50_Weights.DEFAULT` to get the most up-to-date weights.\n",
            "  warnings.warn(msg)\n"
          ]
        }
      ],
      "source": [
        "device = torch.device(\"cuda:0\" if torch.cuda.is_available() else \"cpu\")\n",
        "\n",
        "model_ft = models.resnet50(pretrained=True)\n",
        "num_ftrs = model_ft.fc\n"
      ]
    },
    {
      "cell_type": "code",
      "execution_count": null,
      "metadata": {
        "id": "5vo4e1QuuHJh"
      },
      "outputs": [],
      "source": [
        "num_ftrs = model_ft.fc.in_features\n",
        "model_ft.fc = nn.Linear(num_ftrs, 3)\n",
        "\n",
        "model_ft = model_ft.to(device)\n",
        "\n",
        "# Consider class imbalance\n",
        "unique, counts = np.unique(np.array(Label_train), return_counts=True)\n",
        "class_freq = dict(zip(unique, counts))\n",
        "weights = [1.0 / class_freq[label] for label in unique]\n",
        "weights = np.array(weights) / np.sum(weights)\n",
        "weights_tensor = torch.tensor(weights, dtype=torch.float, device=device)\n",
        "criterion = nn.CrossEntropyLoss(weight=weights_tensor)\n",
        "\n",
        "optimizer_ft = optim.SGD(model_ft.parameters(), lr=0.001, momentum=0.9)\n",
        "exp_lr_scheduler = lr_scheduler.StepLR(optimizer_ft, step_size=7, gamma=0.1)\n"
      ]
    },
    {
      "cell_type": "code",
      "execution_count": null,
      "metadata": {
        "colab": {
          "base_uri": "https://localhost:8080/"
        },
        "id": "Ah1bpROJuK9n",
        "outputId": "d973157e-c85a-4391-da19-d653d0031ef6"
      },
      "outputs": [
        {
          "output_type": "stream",
          "name": "stdout",
          "text": [
            "Epoch 0/9\n",
            "----------\n",
            "train Loss: 0.3639 Acc: 1.1345\n"
          ]
        },
        {
          "output_type": "stream",
          "name": "stderr",
          "text": [
            "/usr/local/lib/python3.9/dist-packages/torch/utils/data/dataloader.py:554: UserWarning: This DataLoader will create 4 worker processes in total. Our suggested max number of worker in current system is 2, which is smaller than what this DataLoader is going to create. Please be aware that excessive worker creation might get DataLoader running slow or even freeze, lower the worker number to avoid potential slowness/freeze if necessary.\n",
            "  warnings.warn(_create_warning_msg(\n"
          ]
        },
        {
          "output_type": "stream",
          "name": "stdout",
          "text": [
            "val Loss: 0.3557 Acc: 0.9412\n",
            "\n",
            "Epoch 1/9\n",
            "----------\n",
            "train Loss: 0.3334 Acc: 1.1964\n",
            "val Loss: 0.3935 Acc: 1.3235\n",
            "\n",
            "Epoch 2/9\n",
            "----------\n",
            "train Loss: 0.3041 Acc: 0.7709\n",
            "val Loss: 0.4055 Acc: 1.5294\n",
            "\n",
            "Epoch 3/9\n",
            "----------\n",
            "train Loss: 0.3127 Acc: 1.0400\n",
            "val Loss: 0.3838 Acc: 1.2353\n",
            "\n",
            "Epoch 4/9\n",
            "----------\n",
            "train Loss: 0.2952 Acc: 1.0436\n",
            "val Loss: 0.4028 Acc: 0.1471\n",
            "\n",
            "Epoch 5/9\n",
            "----------\n",
            "train Loss: 0.2707 Acc: 0.9418\n",
            "val Loss: 0.3808 Acc: 1.1765\n",
            "\n",
            "Epoch 6/9\n",
            "----------\n",
            "train Loss: 0.2549 Acc: 0.8218\n",
            "val Loss: 0.4341 Acc: 1.2647\n",
            "\n",
            "Epoch 7/9\n",
            "----------\n",
            "train Loss: 0.2442 Acc: 1.2691\n",
            "val Loss: 0.4314 Acc: 1.2059\n",
            "\n",
            "Epoch 8/9\n",
            "----------\n",
            "train Loss: 0.2650 Acc: 1.1455\n",
            "val Loss: 0.4169 Acc: 1.1765\n",
            "\n",
            "Epoch 9/9\n",
            "----------\n",
            "train Loss: 0.2442 Acc: 1.0691\n",
            "val Loss: 0.4156 Acc: 1.2647\n",
            "\n",
            "Training complete in 11m 50s\n",
            "Best val Acc: 1.529412\n"
          ]
        }
      ],
      "source": [
        "model_ft = train_model_new(model_ft, criterion, optimizer_ft, exp_lr_scheduler, num_epochs=10, freeze_epochs=5, duplicate_channels=True)\n"
      ]
    },
    {
      "cell_type": "code",
      "execution_count": null,
      "metadata": {
        "id": "WYKQXBLLuN4C"
      },
      "outputs": [],
      "source": [
        "def evaluate_model(model, dataloader):\n",
        "    model.eval()\n",
        "    all_preds = []\n",
        "    all_labels = []\n",
        "    with torch.no_grad():\n",
        "        for inputs, labels in dataloader:\n",
        "            inputs = inputs.repeat(1, 3, 1, 1)  # Duplicate grayscale channel to mimic RGB\n",
        "            inputs = inputs.to(device)\n",
        "            labels = labels.to(device)\n",
        "            outputs = model(inputs)\n",
        "            _, preds = torch.max(outputs, 1)\n",
        "            all_preds.extend(preds.cpu().numpy())\n",
        "\n",
        "            # Check if the labels are one-hot encoded and convert them back to single values if necessary\n",
        "            if labels.dim() > 1 and labels.size(1) > 1:\n",
        "                _, single_value_labels = torch.max(labels, 1)\n",
        "                all_labels.extend(single_value_labels.cpu().numpy())\n",
        "            else:\n",
        "                all_labels.extend(labels.cpu().numpy())\n",
        "    return all_labels, all_preds\n"
      ]
    },
    {
      "cell_type": "code",
      "execution_count": null,
      "metadata": {
        "colab": {
          "base_uri": "https://localhost:8080/"
        },
        "id": "Ra2bFDXZ33Wc",
        "outputId": "1025793c-f933-4e6a-bf18-ae921ba17ec8"
      },
      "outputs": [
        {
          "output_type": "stream",
          "name": "stdout",
          "text": [
            "Confusion Matrix:\n",
            "[[ 7  3  0]\n",
            " [10  3  0]\n",
            " [ 1 10  0]]\n"
          ]
        }
      ],
      "source": [
        "labels, preds = evaluate_model(model_ft, dataloaders['val'])\n",
        "cm = confusion_matrix(labels, preds)\n",
        "print(\"Confusion Matrix:\")\n",
        "print(cm)\n"
      ]
    },
    {
      "cell_type": "markdown",
      "metadata": {
        "id": "C7l2kR6mR7TF"
      },
      "source": [
        "Compare the results (accuracy, loss etc.) for model performance with and without transfer learning. Which one is better? How? Why?"
      ]
    },
    {
      "cell_type": "markdown",
      "metadata": {
        "id": "BmVw6frHpDeH"
      },
      "source": [
        "I am not sure if this model necessarily performs better. The final results are hard to interpret. For Epoch 9/9, the train Loss: 0.2442 Acc: 1.0691 and val Loss: 0.4156 Acc: 1.2647. The best validation accuracy is 1.529412. I am not sure how to interpret the accuracy being greater than 1.\n",
        "\n",
        "\n",
        "In terms of the confusion matrix, the diagonal elements (7, 3, 0) represent the number of correct predictions for each class. There were 7 correct predictions for class 1, 3 correct predictions for class 2, and 0 correct predictions for class 3. The off-diagonal elements represent the incorrect predictions: 3 instances of class 1 were incorrectly predicted as class 2, 10 instances of class 2 were incorrectly predicted as class 1, 1 instance of class 3 was incorrectly predicted as class 1, 10 instances of class 3 were incorrectly predicted as class 2. No instances of class 1 or class 2 were predicted as class 3. From the confusion matrix, it seems that the classifier has difficulty distinguishing between class 2 and class 3, as it did not predict any instances of class 3 correctly. Additionally, the classifier has some difficulty in distinguishing between class 1 and class 2. The overall performance of the classifier appears to be quite poor, as it only made a significant number of correct predictions for class 1, and none for class 3."
      ]
    },
    {
      "cell_type": "markdown",
      "metadata": {
        "id": "CYiDbiUG6Wff"
      },
      "source": [
        "### Task Bonus:\n",
        "Increase the depth of your network in Task6 to 15 layers. Test it and compare the performance to the one in Task6, does deeper netowork work better? And then add res blocks to see what will happen, answer what problem the res blocks are designed to solve."
      ]
    },
    {
      "cell_type": "code",
      "execution_count": null,
      "metadata": {
        "id": "YF1Ewz646XSf"
      },
      "outputs": [],
      "source": [
        "# YOUR CODE HERE"
      ]
    },
    {
      "cell_type": "markdown",
      "source": [
        "I was not able to get this to run, because of the complexity and required GPU."
      ],
      "metadata": {
        "id": "ybFOIvLPbey8"
      }
    },
    {
      "cell_type": "code",
      "source": [
        "import torch.nn as nn\n",
        "\n",
        "class DeepCNN(nn.Module):\n",
        "    def __init__(self):\n",
        "        super(DeepCNN, self).__init__()\n",
        "\n",
        "        self.conv1 = nn.Sequential(\n",
        "            nn.Conv2d(1, 16, kernel_size=3, stride=1, padding=1),\n",
        "            nn.BatchNorm2d(16),\n",
        "            nn.ReLU(),\n",
        "            nn.MaxPool2d(kernel_size=2, stride=2)\n",
        "        )\n",
        "\n",
        "        self.conv2 = nn.Sequential(\n",
        "            nn.Conv2d(16, 32, kernel_size=3, stride=1, padding=1),\n",
        "            nn.BatchNorm2d(32),\n",
        "            nn.ReLU(),\n",
        "            nn.MaxPool2d(kernel_size=2, stride=2)\n",
        "        )\n",
        "\n",
        "        self.conv3 = nn.Sequential(\n",
        "            nn.Conv2d(32, 64, kernel_size=3, stride=1, padding=1),\n",
        "            nn.BatchNorm2d(64),\n",
        "            nn.ReLU(),\n",
        "            nn.MaxPool2d(kernel_size=2, stride=2)\n",
        "        )\n",
        "\n",
        "        self.conv4 = nn.Sequential(\n",
        "            nn.Conv2d(64, 128, kernel_size=3, stride=1, padding=1),\n",
        "            nn.BatchNorm2d(128),\n",
        "            nn.ReLU(),\n",
        "            nn.MaxPool2d(kernel_size=2, stride=2)\n",
        "        )\n",
        "\n",
        "        self.conv5 = nn.Sequential(\n",
        "            nn.Conv2d(128, 256, kernel_size=3, stride=1, padding=1),\n",
        "            nn.BatchNorm2d(256),\n",
        "            nn.ReLU()\n",
        "        )\n",
        "\n",
        "        self.conv6 = nn.Sequential(\n",
        "            nn.Conv2d(256, 256, kernel_size=3, stride=1, padding=1),\n",
        "            nn.BatchNorm2d(256),\n",
        "            nn.ReLU()\n",
        "        )\n",
        "\n",
        "        self.conv7 = nn.Sequential(\n",
        "            nn.Conv2d(256, 256, kernel_size=3, stride=1, padding=1),\n",
        "            nn.BatchNorm2d(256),\n",
        "            nn.ReLU()\n",
        "        )\n",
        "\n",
        "        self.conv8 = nn.Sequential(\n",
        "            nn.Conv2d(256, 256, kernel_size=3, stride=1, padding=1),\n",
        "            nn.BatchNorm2d(256),\n",
        "            nn.ReLU()\n",
        "        )\n",
        "\n",
        "        self.conv9 = nn.Sequential(\n",
        "            nn.Conv2d(256, 128, kernel_size=3, stride=1, padding=1),\n",
        "            nn.BatchNorm2d(128),\n",
        "            nn.ReLU()\n",
        "        )\n",
        "\n",
        "        self.conv10 = nn.Sequential(\n",
        "            nn.Conv2d(128, 64, kernel_size=3, stride=1, padding=1),\n",
        "            nn.BatchNorm2d(64),\n",
        "            nn.ReLU()\n",
        "        )\n",
        "\n",
        "        self.fc1 = nn.Linear(64 * 2 * 2, 512)\n",
        "        self.fc2 = nn.Linear(512, 256)\n",
        "        self.fc3 = nn.Linear(256, 128)\n",
        "        self.fc4 = nn.Linear(128, 64)\n",
        "        self.fc5 = nn.Linear(64, 3)\n",
        "\n",
        "    def forward(self, x):\n",
        "        x = self.conv1(x)\n",
        "        x = self.conv2(x)\n",
        "        x = self.conv3(x)\n",
        "        x = self.conv4(x)\n",
        "        x = self.conv5(x)\n",
        "        x = self.conv6(x)\n",
        "        x = self.conv7(x)\n",
        "        x = self.conv8(x)\n",
        "        x = self.conv9(x)\n",
        "        x = self.conv10(x)\n",
        "\n",
        "        # Flatten the output from the convolutional layers\n",
        "        x = x.view(x.size(0), -1)\n",
        "\n",
        "        x = nn.ReLU()(self.fc1(x))\n",
        "        x = nn.ReLU()(self.fc2(x))\n",
        "        x = nn.ReLU()(self.fc3(x))\n",
        "        x = nn.ReLU()(self.fc4(x))\n",
        "        x = self.fc5(x)\n",
        "        return x"
      ],
      "metadata": {
        "id": "SEw93LYcbPpu"
      },
      "execution_count": null,
      "outputs": []
    },
    {
      "cell_type": "code",
      "source": [
        "class ResidualBlock(nn.Module):\n",
        "    def __init__(self, in_channels, out_channels, stride=1):\n",
        "        super(ResidualBlock, self).__init__()\n",
        "        self.conv1 = nn.Conv2d(in_channels, out_channels, kernel_size=3, stride=stride, padding=1, bias=False)\n",
        "        self.bn1 = nn.BatchNorm2d(out_channels)\n",
        "        self.conv2 = nn.Conv2d(out_channels, out_channels, kernel_size=3, stride=1, padding=1, bias=False)\n",
        "        self.bn2 = nn.BatchNorm2d(out_channels)\n",
        "\n",
        "        self.shortcut = nn.Sequential()\n",
        "        if stride != 1 or in_channels != out_channels:\n",
        "            self.shortcut = nn.Sequential(\n",
        "                nn.Conv2d(in_channels, out_channels, kernel_size=1, stride=stride, bias=False),\n",
        "                nn.BatchNorm2d(out_channels)\n",
        "            )\n",
        "\n",
        "    def forward(self, x):\n",
        "        out = F.relu(self.bn1(self.conv1(x)))\n",
        "        out = self.bn2(self.conv2(out))\n",
        "        out += self.shortcut(x)\n",
        "        out = F.relu(out)\n",
        "        return out\n"
      ],
      "metadata": {
        "id": "EY8FX2qbbbia"
      },
      "execution_count": null,
      "outputs": []
    }
  ],
  "metadata": {
    "colab": {
      "provenance": [],
      "include_colab_link": true
    },
    "gpuClass": "standard",
    "kernelspec": {
      "display_name": "Python 3",
      "name": "python3"
    }
  },
  "nbformat": 4,
  "nbformat_minor": 0
}